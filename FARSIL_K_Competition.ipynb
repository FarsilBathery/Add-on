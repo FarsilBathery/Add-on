{
  "nbformat": 4,
  "nbformat_minor": 0,
  "metadata": {
    "colab": {
      "provenance": []
    },
    "kernelspec": {
      "name": "python3",
      "display_name": "Python 3"
    },
    "language_info": {
      "name": "python"
    }
  },
  "cells": [
    {
      "cell_type": "markdown",
      "source": [
        "1) Write a Python function to accept a string value from the user and display the\n",
        "count of each character in that string. Sample input: Enter a string value:\n",
        "assembly Sample output: a=1, s=2, e=1, m=1, b=1, l=1, y=1"
      ],
      "metadata": {
        "id": "Sz9VyotxKY8c"
      }
    },
    {
      "cell_type": "code",
      "source": [],
      "metadata": {
        "id": "SLLZuL2HSD23"
      },
      "execution_count": null,
      "outputs": []
    },
    {
      "cell_type": "markdown",
      "source": [
        "2) Write a Python function to find the maximum of three numbers Sample input:\n",
        "34,12,7 Sample output: 34"
      ],
      "metadata": {
        "id": "L9uxeYd5Neyl"
      }
    },
    {
      "cell_type": "code",
      "source": [
        "a = int(input(\"Enter the first number:\"))\n",
        "b = int(input(\"Enter the first number:\"))\n",
        "c = int(input(\"Enter the first number:\"))\n",
        "if a>b and a>c:\n",
        "  print(a,'is the largest')\n",
        "elif b>a and b>c:\n",
        "  print(b,'is the largest')\n",
        "else:\n",
        "  print(c,'is the largest')"
      ],
      "metadata": {
        "colab": {
          "base_uri": "https://localhost:8080/"
        },
        "id": "lEPMrpPgbNzS",
        "outputId": "96a4a7a3-4558-492e-e4f7-0206d2b36c81"
      },
      "execution_count": 14,
      "outputs": [
        {
          "output_type": "stream",
          "name": "stdout",
          "text": [
            "Enter the first number: 32\n",
            "Enter the first number: 25\n",
            "Enter the first number:12\n",
            "32 is the largest\n"
          ]
        }
      ]
    },
    {
      "cell_type": "markdown",
      "source": [
        "3) Write a Python function called exponent(base,exp) that returns an integer\n",
        "value of base raises to the power of exp."
      ],
      "metadata": {
        "id": "bri60e78h2T0"
      }
    },
    {
      "cell_type": "code",
      "source": [
        "def exponent(base, exp):\n",
        "  pow=base**exp\n",
        "  return(pow)\n",
        "\n",
        "base=int(input(\"Enter the base value:\"))\n",
        "exp=int(input(\"Enter the exponent value\"))\n",
        "print(exponent(base, exp))\n",
        "\n"
      ],
      "metadata": {
        "colab": {
          "base_uri": "https://localhost:8080/"
        },
        "id": "i61wFW9oh3cz",
        "outputId": "015e7f9a-66f8-42ce-865f-d2c352975d6d"
      },
      "execution_count": 22,
      "outputs": [
        {
          "output_type": "stream",
          "name": "stdout",
          "text": [
            "Enter the base value:2\n",
            "Enter the exponent value3\n",
            "8\n"
          ]
        }
      ]
    },
    {
      "cell_type": "markdown",
      "source": [
        " 5) Write a Python program which iterates from 1 to 10. For multiples of 2, print\n",
        "“Fizz” instead of the number and for the multiples of 5, print “Buzz”. For\n",
        "numbers which are multiples of both 2 and 5, print “FizzBuzz”."
      ],
      "metadata": {
        "id": "EPfqoe2MtXpv"
      }
    },
    {
      "cell_type": "code",
      "source": [],
      "metadata": {
        "id": "UmcSjPvOtXKo"
      },
      "execution_count": null,
      "outputs": []
    },
    {
      "cell_type": "markdown",
      "source": [
        "6) Write a Python function to find the most frequent item in a list of numbers."
      ],
      "metadata": {
        "id": "rePBOkputwwX"
      }
    },
    {
      "cell_type": "code",
      "source": [
        "def most frequent(nums):\n",
        "  if"
      ],
      "metadata": {
        "id": "ZJNQYKMgtwwY"
      },
      "execution_count": null,
      "outputs": []
    },
    {
      "cell_type": "markdown",
      "source": [
        "7) Write a Python function to find the sum of squares of the numbers in a list."
      ],
      "metadata": {
        "id": "afmJEf6zuWaL"
      }
    },
    {
      "cell_type": "code",
      "source": [
        "l1=(2,3,4,2,5,2)\n",
        "sum=0\n",
        "for num in l1:\n",
        "  a = num**2\n",
        "  sum = sum+a\n",
        "print(sum)"
      ],
      "metadata": {
        "colab": {
          "base_uri": "https://localhost:8080/"
        },
        "id": "x-NaM1yDuZ9z",
        "outputId": "43c31d76-5891-450d-8874-474eee3215c7"
      },
      "execution_count": 27,
      "outputs": [
        {
          "output_type": "stream",
          "name": "stdout",
          "text": [
            "62\n"
          ]
        }
      ]
    },
    {
      "cell_type": "markdown",
      "source": [
        "8) Write a Python program using for loop that will iterate from 1 to 15. For each\n",
        "iteration, check if the current number is odd or even, and display the message\n",
        "to the screen as odd or even."
      ],
      "metadata": {
        "id": "2eMltFfAmBJO"
      }
    },
    {
      "cell_type": "code",
      "source": [
        "def evenodd(n):\n",
        "  if  n%2==0:\n",
        "    value='even'\n",
        "    return value\n",
        "  else:\n",
        "    value='odd'\n",
        "    return value\n",
        "\n",
        "for i in range(1,16):\n",
        "  print(i,'=',evenodd(i))\n"
      ],
      "metadata": {
        "colab": {
          "base_uri": "https://localhost:8080/"
        },
        "id": "1kEPJod4mDEl",
        "outputId": "4243ab4a-fd40-4730-f8b2-f043a2274b68"
      },
      "execution_count": 23,
      "outputs": [
        {
          "output_type": "stream",
          "name": "stdout",
          "text": [
            "1 = odd\n",
            "2 = even\n",
            "3 = odd\n",
            "4 = even\n",
            "5 = odd\n",
            "6 = even\n",
            "7 = odd\n",
            "8 = even\n",
            "9 = odd\n",
            "10 = even\n",
            "11 = odd\n",
            "12 = even\n",
            "13 = odd\n",
            "14 = even\n",
            "15 = odd\n"
          ]
        }
      ]
    },
    {
      "cell_type": "markdown",
      "source": [
        "9) Write a Python function to convert temperatures to and from Celsius\n",
        "Fahrenheit. [Formula: c/5=f-32/9 where c=temperature in Celsius and f=\n",
        "temperature in Fahrenheit.]"
      ],
      "metadata": {
        "id": "2GNhEbLx1ZUS"
      }
    },
    {
      "cell_type": "code",
      "source": [
        "c = float(input('enter the celsius:'))\n",
        "f = (c * 9/5)+ 32\n",
        "print('the temparature in fahrenheit is:',f)"
      ],
      "metadata": {
        "colab": {
          "base_uri": "https://localhost:8080/"
        },
        "id": "CbCgMIUR1xMh",
        "outputId": "026f7591-ba7f-459f-fabc-3faa156b5492"
      },
      "execution_count": 30,
      "outputs": [
        {
          "output_type": "stream",
          "name": "stdout",
          "text": [
            "enter the celsius:5\n",
            "the temparature in fahrenheit is: 41.0\n"
          ]
        }
      ]
    },
    {
      "cell_type": "markdown",
      "source": [
        "10) Write a Python function to calculate the factorial of a number (a nonnegative\n",
        "integer). The function accepts the number as an argument."
      ],
      "metadata": {
        "id": "5oW4z43P3Hwd"
      }
    },
    {
      "cell_type": "code",
      "source": [],
      "metadata": {
        "id": "wm0_Ut9B3Vjv"
      },
      "execution_count": null,
      "outputs": []
    },
    {
      "cell_type": "markdown",
      "source": [
        "11) Case Study: Grade Calculator\n",
        "In this case study, you have to create a program that calculates the final\n",
        "grade for a student based on their scores in different assessments. The\n",
        "program will take input from the user, perform calculations, and display the\n",
        "final grade along with additional information.\n",
        "Requirements:\n",
        "1. The program should prompt the user to enter the following information:\n",
        "• Student's name\n",
        "• Number of assessments (e.g., assignments, quizzes, exams)\n",
        "• Weight (percentage) of each assessment type\n",
        "2. For each assessment type, the program should ask the user to enter:\n",
        "• Number of assessments of that type\n",
        "• Score obtained for each assessment.\n",
        "3. The program should calculate the weighted average score for each\n",
        "assessment type.\n",
        "4. The program should then calculate the final grade using the weighted\n",
        "average scores and the weights provided by the user.\n",
        "5. The program should display the following information:\n",
        "• Student's name\n",
        "• Weighted average score for each assessment type\n",
        "• Final grade\n",
        "• Letter grade based on a grading scale (e.g., A, B, C, D, F)\n",
        "6. The program should have a function to determine the letter grade based\n",
        "on the final grade."
      ],
      "metadata": {
        "id": "VPJuUrts5H78"
      }
    },
    {
      "cell_type": "code",
      "source": [],
      "metadata": {
        "id": "AXHiOg9U5KOL"
      },
      "execution_count": null,
      "outputs": []
    }
  ]
}